{
 "cells": [
  {
   "cell_type": "markdown",
   "metadata": {},
   "source": [
    "## Adaptive RAG Agent with Langgraph\n",
    " - Follows ideas from 3 papers:\n",
    "\n",
    "    1. Adaptive RAG - Route questions to different retrieval approaches.\n",
    "    2. Corrective RAG - Fallback to web search if docs are not relevant to query.\n",
    "    3. Self Correction in RAG - Fix answers w/ hallucinations or don't address question."
   ]
  },
  {
   "cell_type": "code",
   "execution_count": 1,
   "metadata": {},
   "outputs": [],
   "source": [
    "# ollama pull llama3.2:3b-instruct-fp16\n",
    "# pip install langchain-nomic"
   ]
  },
  {
   "cell_type": "code",
   "execution_count": 2,
   "metadata": {},
   "outputs": [
    {
     "name": "stderr",
     "output_type": "stream",
     "text": [
      "USER_AGENT environment variable not set, consider setting it to identify your requests.\n"
     ]
    },
    {
     "data": {
      "text/plain": [
       "True"
      ]
     },
     "execution_count": 2,
     "metadata": {},
     "output_type": "execute_result"
    }
   ],
   "source": [
    "# imports \n",
    "from langchain_ollama import ChatOllama\n",
    "from langchain_community.document_loaders import WebBaseLoader\n",
    "from langchain_text_splitters import RecursiveCharacterTextSplitter\n",
    "from langchain_community.vectorstores import FAISS\n",
    "from langchain_nomic.embeddings import NomicEmbeddings\n",
    "from langchain_core.messages import HumanMessage, SystemMessage\n",
    "from langchain_community.tools.tavily_search import TavilySearchResults\n",
    "# schemas are all base interfaces of langchain\n",
    "from langchain.schema import Document\n",
    "\n",
    "from langgraph.graph import StateGraph\n",
    "from langgraph.graph import END\n",
    "from pydantic import BaseModel, Field\n",
    "from typing import Literal, List, Annotated, TypedDict\n",
    "import operator\n",
    "import json\n",
    "\n",
    "\n",
    "from dotenv import load_dotenv\n",
    "load_dotenv(\"../secrets/local.env\")"
   ]
  },
  {
   "cell_type": "code",
   "execution_count": 3,
   "metadata": {},
   "outputs": [],
   "source": [
    "# schemas\n",
    "class Grader(BaseModel):\n",
    "    binary_score: Literal['yes', 'no'] = Field(description=\"The final grade / score assigned.\")\n",
    "\n",
    "class ReasoningGrader(BaseModel):\n",
    "    binary_score: Literal['yes', 'no'] = Field(description=\"The final grade / score assigned.\")\n",
    "    explanation: str = Field(description=\"The step by step explanation of the final binary score.\")"
   ]
  },
  {
   "cell_type": "code",
   "execution_count": 4,
   "metadata": {},
   "outputs": [],
   "source": [
    "## LLM  \n",
    "local_llm = \"llama3.2:3b-instruct-fp16\"\n",
    "llm = ChatOllama(name=\"llama\", model=local_llm, request_timeout=120.0)\n",
    "llm_json_mode = ChatOllama(name=\"llama\", model=local_llm, request_timeout=120.0, json_mode=True)"
   ]
  },
  {
   "cell_type": "code",
   "execution_count": 5,
   "metadata": {},
   "outputs": [
    {
     "data": {
      "text/plain": [
       "AIMessage(content=\"I'm not sure I understand what you're asking. Could you please provide more context or clarify your question? I'll do my best to help.\", additional_kwargs={}, response_metadata={'model': 'llama3.2:3b-instruct-fp16', 'created_at': '2024-11-11T11:52:49.884110491Z', 'message': {'role': 'assistant', 'content': ''}, 'done_reason': 'stop', 'done': True, 'total_duration': 449733628, 'load_duration': 8787279, 'prompt_eval_count': 25, 'prompt_eval_duration': 23484000, 'eval_count': 31, 'eval_duration': 375595000}, id='run-a7d51a7a-a048-44a6-97bb-73654ca3e2f9-0', usage_metadata={'input_tokens': 25, 'output_tokens': 31, 'total_tokens': 56})"
      ]
     },
     "execution_count": 5,
     "metadata": {},
     "output_type": "execute_result"
    }
   ],
   "source": [
    "llm.invoke(\"\")"
   ]
  },
  {
   "cell_type": "code",
   "execution_count": 6,
   "metadata": {},
   "outputs": [],
   "source": [
    "# data\n",
    "urls = [\n",
    "    \"https://www.promptingguide.ai/introduction/tips/\",\n",
    "    \"https://www.promptingguide.ai/techniques/cot/\",\n",
    "    \"https://www.promptingguide.ai/techniques/meta-prompting/\",\n",
    "    \"https://www.promptingguide.ai/techniques/prompt_chaining/\",\n",
    "    \"https://agentprotocol.ai/protocol/\",\n",
    "    \"https://agentprotocol.ai/\",\n",
    "]\n",
    "\n",
    "\n",
    "# Load the documents\n",
    "docs = [WebBaseLoader(url).load() for url in urls]\n",
    "docs_list = [item for sublist in docs for item in sublist]\n",
    "\n",
    "# Split\n",
    "text_splitter = RecursiveCharacterTextSplitter.from_tiktoken_encoder(\n",
    "    chunk_size=1000, chunk_overlap=200\n",
    ")\n",
    "doc_splits = text_splitter.split_documents(documents=docs_list)\n",
    "\n",
    "# Add vectorDB\n",
    "vector_store = FAISS.from_documents(\n",
    "    documents=doc_splits,\n",
    "    embedding=NomicEmbeddings(model=\"nomic-embed-text-v1.5\", inference_mode=\"local\")\n",
    ")"
   ]
  },
  {
   "cell_type": "code",
   "execution_count": 7,
   "metadata": {},
   "outputs": [],
   "source": [
    "# create retriever\n",
    "rag_retriever = vector_store.as_retriever(k=3)"
   ]
  },
  {
   "cell_type": "code",
   "execution_count": 8,
   "metadata": {},
   "outputs": [],
   "source": [
    "### Web search tool\n",
    "web_search_tool = TavilySearchResults(k=3)"
   ]
  },
  {
   "cell_type": "markdown",
   "metadata": {},
   "source": [
    "### Components"
   ]
  },
  {
   "cell_type": "code",
   "execution_count": 9,
   "metadata": {},
   "outputs": [
    {
     "name": "stdout",
     "output_type": "stream",
     "text": [
      "{'datasource': 'vectorstore'} {'datasource': 'websearch'}\n"
     ]
    }
   ],
   "source": [
    "### Router\n",
    "\n",
    "# Prompt\n",
    "router_instructions =\\\n",
    "    \"You are an expert at routing user questions to either a vectorstore or web search. \"\\\n",
    "    \"The vectorstore contains documents related to prompt engineering & agent protocol. \"\\\n",
    "    \"Use the vectorstore for questions related to those topics. For all else, especially for current events, use websearch. \"\\\n",
    "    \"Return JSON with single key, datasource, that is `websearch` or `vectorstore` depending on question.\"\n",
    "\n",
    "# test router\n",
    "test_vectorstore = llm_json_mode.invoke(\n",
    "    [SystemMessage(content=router_instructions)]\n",
    "    + [HumanMessage(content=\"What are the types of prompting?\")]\n",
    ")\n",
    "\n",
    "\n",
    "test_websearch = llm_json_mode.invoke(\n",
    "    [SystemMessage(content=router_instructions)]\n",
    "    + [HumanMessage(content=\"How is the stock market doing ?\")]\n",
    ")\n",
    "\n",
    "print(json.loads(test_vectorstore.content), json.loads(test_websearch.content))"
   ]
  },
  {
   "cell_type": "code",
   "execution_count": 10,
   "metadata": {},
   "outputs": [],
   "source": [
    "### Document grader\n",
    "\n",
    "# instructions\n",
    "doc_grader_instructions = \"\"\"\n",
    "    You are a grader assessing the relevance of a retrieved document to user question.\n",
    "    If document contains keyword(s) or semantic information relevant to a given question, grade it as relevant.\n",
    "\"\"\"\n",
    "\n",
    "# Grader prompt\n",
    "doc_grader_prompt = \"\"\"\n",
    "    Here is the retrieved document:\n",
    "\n",
    "    {document}\n",
    "\n",
    "    Here is the user question:\n",
    "\n",
    "    {question}.\n",
    "    Carefully and objectively assess whether the document contains at least some amount of relevant information about the asked question.\n",
    "    Return JSON with a single key, binary_score, that is 'yes' or 'no' score.\"\"\"\n",
    "\n",
    "# Test\n",
    "question = \"What is Agent protocol\"\n",
    "docs =  rag_retriever.invoke(question)\n",
    "doc_txt = docs[1].page_content\n",
    "doc_grader_prompt_formatted = doc_grader_prompt.format(\n",
    "    document=doc_txt, question=question\n",
    ")\n",
    "result = llm_json_mode.with_structured_output(Grader).invoke(\n",
    "    [SystemMessage(content=doc_grader_instructions)]\n",
    "    + [HumanMessage(content=doc_grader_prompt_formatted)]\n",
    ")\n",
    "# json.loads(result.content.strip('```'))"
   ]
  },
  {
   "cell_type": "code",
   "execution_count": 11,
   "metadata": {},
   "outputs": [
    {
     "name": "stdout",
     "output_type": "stream",
     "text": [
      "The Agent Protocol is a process used in Zero-Shot-CoT (ZSCoT) that involves two stages: question clustering and demonstration sampling. In Stage 1, questions are clustered into a few groups based on their characteristics such as length and number of steps in the rationale. This is done to select representative questions from each cluster for further generation of reasoning chains using simple heuristics.\n"
     ]
    }
   ],
   "source": [
    "### Generate\n",
    "\n",
    "# Prompt\n",
    "rag_prompt = \"\"\"\n",
    "    You are an assistant for question-answering tasks.\n",
    "\n",
    "    Here is the context to use to answer the question.\n",
    "\n",
    "    {context}\n",
    "\n",
    "    Think carefully about the above context.\n",
    "\n",
    "    Now, review the user question.\n",
    "\n",
    "    {question}\n",
    "\n",
    "    Provide an answer to this question using only the above context.\n",
    "\n",
    "    Use three sentences at maximum to keep the answer concise.\n",
    "\n",
    "    Answer:\"\"\"\n",
    "\n",
    "# post processing\n",
    "def format_docs(docs):\n",
    "    return '\\n\\n'.join(doc.page_content for doc in docs)\n",
    "\n",
    "\n",
    "# Test\n",
    "docs = rag_retriever.invoke(question)\n",
    "docs_txt = format_docs(docs)\n",
    "rag_prompt_formatted = rag_prompt.format(context=docs_txt, question=question)\n",
    "\n",
    "generation = llm.invoke([SystemMessage(content=rag_prompt)] + [HumanMessage(content=rag_prompt_formatted)])\n",
    "print(generation.content)"
   ]
  },
  {
   "cell_type": "code",
   "execution_count": 12,
   "metadata": {},
   "outputs": [
    {
     "name": "stdout",
     "output_type": "stream",
     "text": [
      "Agent Protocol is a process described in Zhang et al. (2022) that involves two stages: question clustering and demonstration sampling. In Stage 1, questions are partitioned into clusters based on certain criteria such as question length or number of steps in rationale. Stage 2 involves selecting representative questions from each cluster and generating their reasoning chains using Zero-Shot-CoT with simple heuristics.\n"
     ]
    }
   ],
   "source": [
    "### Generate\n",
    "\n",
    "# Prompt\n",
    "rag_prompt = \"\"\"\n",
    "    You are an assistant for question-answering tasks.\n",
    "\n",
    "    Here is the context to use to answer the question.\n",
    "\n",
    "    {context}\n",
    "\n",
    "    Think carefully about the above context.\n",
    "\n",
    "    Now, review the user question.\n",
    "\n",
    "    {question}\n",
    "\n",
    "    Provide an answer to this question using only the above context.\n",
    "\n",
    "    Use three sentences at maximum to keep the answer concise.\n",
    "\n",
    "    Answer:\"\"\"\n",
    "\n",
    "# post processing\n",
    "def format_docs(docs):\n",
    "    return '\\n\\n'.join(doc.page_content for doc in docs)\n",
    "\n",
    "\n",
    "# Test\n",
    "docs = rag_retriever.invoke(question)\n",
    "docs_txt = format_docs(docs)\n",
    "rag_prompt_formatted = rag_prompt.format(context=docs_txt, question=question)\n",
    "\n",
    "generation = llm.invoke([SystemMessage(content=rag_prompt)] + [HumanMessage(content=rag_prompt_formatted)])\n",
    "print(generation.content)"
   ]
  },
  {
   "cell_type": "code",
   "execution_count": 13,
   "metadata": {},
   "outputs": [
    {
     "name": "stdout",
     "output_type": "stream",
     "text": [
      "Agent Protocol is a process that involves two stages: \n",
      "\n",
      "1. Question clustering: partitioning questions into clusters, and \n",
      "2. Demonstration sampling: selecting representative questions from each cluster and generating their reasoning chains using Zero-Shot-CoT with simple heuristics such as length of questions and number of steps in rationale.\n",
      "\n",
      "This protocol aims to encourage the model to use simple and accurate demonstrations, ultimately improving the quality of generated responses.\n"
     ]
    }
   ],
   "source": [
    "### Generate\n",
    "\n",
    "# Prompt\n",
    "rag_prompt = \"\"\"\n",
    "    You are an assistant for question-answering tasks.\n",
    "\n",
    "    Here is the context to use to answer the question.\n",
    "\n",
    "    {context}\n",
    "\n",
    "    Think carefully about the above context.\n",
    "\n",
    "    Now, review the user question.\n",
    "\n",
    "    {question}\n",
    "\n",
    "    Provide an answer to this question using only the above context.\n",
    "\n",
    "    Use three sentences at maximum to keep the answer concise.\n",
    "\n",
    "    Answer:\"\"\"\n",
    "\n",
    "# post processing\n",
    "def format_docs(docs):\n",
    "    return '\\n\\n'.join(doc.page_content for doc in docs)\n",
    "\n",
    "\n",
    "# Test\n",
    "docs = rag_retriever.invoke(question)\n",
    "docs_txt = format_docs(docs)\n",
    "rag_prompt_formatted = rag_prompt.format(context=docs_txt, question=question)\n",
    "\n",
    "generation = llm.invoke([SystemMessage(content=rag_prompt)] + [HumanMessage(content=rag_prompt_formatted)])\n",
    "print(generation.content)"
   ]
  },
  {
   "cell_type": "code",
   "execution_count": 14,
   "metadata": {},
   "outputs": [],
   "source": [
    "### Hallucination Grader\n",
    "\n",
    "# Hallucination Grader instructions\n",
    "hallucination_instructions = \"\"\"\n",
    "    You are a teacher grading a college test.\n",
    "    You will be given FACTS and a STUDENT_ANSWER.\n",
    "    Here is the criteria for grading:\n",
    "\n",
    "    (1) Ensure the STUDENT_ANSWER is grounded in the FACTS.\n",
    "    (2) Ensure the STUDENT_ANSWER does not contain **hallucinated** information outside of the FACTS.\n",
    "\n",
    "    Score: \n",
    "    A score of yes means that the student's answers meets all the above criteria. This is the highest(best) score.\n",
    "    A score of no means that the student's answer does not meet all the criteria. This is the lowest possible score.\n",
    "\n",
    "    Explain your reasoning in step-by-step fashion to ensure your reasoning and conclusion are correct.\"\"\"\n",
    "\n",
    "# Prompt\n",
    "hallucination_grader_prompt = \"\"\"\n",
    "    FACTS: \\n\\n {facts} \\n\\n STUDENT_ANSWER: \\n\\n {generation}.\n",
    "    Return JSON with two keys, binary_score, 'yes' or 'no' to indicate whether the STUDENT_ANSWER is grounded in facts. And a key explanation, that contains an explanation of the score.\"\"\"\n",
    "\n",
    "# Test using documents and generation from above.\n",
    "hallucination_grader_prompt_formatted = hallucination_grader_prompt.format(facts=docs_txt, generation=generation)\n",
    "\n",
    "result = llm_json_mode.with_structured_output(ReasoningGrader).invoke(\n",
    "    [SystemMessage(content=hallucination_instructions)] + [HumanMessage(content=hallucination_grader_prompt_formatted)]\n",
    ")\n",
    "\n",
    "result"
   ]
  },
  {
   "cell_type": "code",
   "execution_count": 15,
   "metadata": {},
   "outputs": [
    {
     "data": {
      "text/plain": [
       "ReasoningGrader(binary_score='yes', explanation='The student answer accurately describes the Agent protocol as a two-stage process: question clustering and demonstration sampling. The explanation provided by the model describes how this protocol aims to encourage models to use simple and accurate demonstrations, ultimately improving response quality.')"
      ]
     },
     "execution_count": 15,
     "metadata": {},
     "output_type": "execute_result"
    }
   ],
   "source": [
    "### Answer Grader\n",
    "\n",
    "# answer grader instructions\n",
    "answer_grader_instructions = \"\"\"You are a teacher grading a test.\n",
    "    You will be given a QUESTION and a STUDENT_ANSWER.\n",
    "    Here is the criteria to follow:\n",
    "\n",
    "    (1) The STUDENT_ANSWER helps to answer the QUESTION accurately.\n",
    "\n",
    "    Score:\n",
    "    A score of 'yes' means  that the student's answer meets all of the criteria. This is the highest (best) score.\n",
    "    The student can receive a score of yes if the answer  contains extra information that is not explicitly asked for in the question.\n",
    "\n",
    "    A score of 'no' means  that the student's answer does not meet all of the criteria. This is the lowest possible score.\n",
    "\n",
    "    Explain in a step by step fashion to ensure your reasoning and conclusion are correct.\n",
    "    Avoid simply answering the correct answer right away.\"\"\"\n",
    "\n",
    "# Grader prompt\n",
    "answer_grader_prompt = \"\"\"QUESTION:\n",
    "\n",
    "{question}\n",
    "\n",
    "STUDENT_ANSWER: \n",
    "\n",
    "{generation}\n",
    "Return JSON with two keys, binary_score is 'yes' or 'no' dependent on whether the criteria is followed. And a key explaination, containing the step-by-step explaination for the answer.\n",
    "\"\"\"\n",
    "\n",
    "# Test\n",
    "answer_grader_prompt_formatted = answer_grader_prompt.format(\n",
    "    question=question, generation=generation\n",
    ")\n",
    "\n",
    "\n",
    "result = llm_json_mode.with_structured_output(ReasoningGrader).invoke(\n",
    "    [SystemMessage(content=answer_grader_instructions)]\n",
    "    + [HumanMessage(content=answer_grader_prompt_formatted)]\n",
    ")\n",
    "\n",
    "result"
   ]
  },
  {
   "cell_type": "markdown",
   "metadata": {},
   "source": [
    "### Graph"
   ]
  },
  {
   "cell_type": "code",
   "execution_count": 16,
   "metadata": {},
   "outputs": [],
   "source": [
    "### Using langgraph to construct the flow of adaptive RAG\n",
    "\n",
    "class AdaptiveRAGState(TypedDict):\n",
    "    question: str \n",
    "    generation: str\n",
    "    web_search: str\n",
    "    max_retries: int\n",
    "    answers: int\n",
    "    loop_step: Annotated[int, operator.add]\n",
    "    documents: List[str]   # list of retrieved documents"
   ]
  },
  {
   "cell_type": "code",
   "execution_count": 17,
   "metadata": {},
   "outputs": [],
   "source": [
    "### Define Nodes\n",
    "# Nodes are nothing but sync or async functions that take in the state and modify it or generate things based on it.\n",
    "\n",
    "def retriever(state: AdaptiveRAGState):\n",
    "    print(\"** RETRIEVE **\")\n",
    "    question = state['question']\n",
    "\n",
    "    # Write retrieved documents to documents in key state\n",
    "    documents = rag_retriever.invoke(question)\n",
    "    return {'documents': documents}\n",
    "\n",
    "\n",
    "def generate(state):\n",
    "    print(\"** GENERATE **\")\n",
    "    question = state['question']\n",
    "    loop_step = state.get('loop_step', 0)  # start with zero loop\n",
    "    documents = state['documents']\n",
    "\n",
    "    # RAG generation\n",
    "    docs_txt = format_docs(documents)\n",
    "    rag_prompt_formatted = rag_prompt.format(context=docs_txt, question=question)\n",
    "    generation = llm.invoke([HumanMessage(content=rag_prompt_formatted)])\n",
    "    \n",
    "    return {'generation': generation, 'loop_step': loop_step + 1}\n",
    "\n",
    "\n",
    "def grade_documents(state):\n",
    "    print(\"** CHECK DOCUMENT RELEVANCE **\")\n",
    "\n",
    "    question = state['question']\n",
    "    documents = state['documents']\n",
    "\n",
    "    # score each doc\n",
    "    filtered_docs = []\n",
    "    websearch = \"no\"\n",
    "    for doc in documents:\n",
    "        doc_grader_prompt_formatted = doc_grader_prompt.format(document=doc.page_content, question=question)\n",
    "        result = llm_json_mode.with_structured_output(Grader).invoke([SystemMessage(content=doc_grader_instructions)] + [HumanMessage(content=doc_grader_prompt_formatted)])\n",
    "\n",
    "        grade = result.binary_score\n",
    "        # Document relevant\n",
    "        if grade.lower() == \"yes\":\n",
    "            print(\"** GRADE: DOCUMENT RELEVANT **\")\n",
    "            filtered_docs.append(doc)\n",
    "        \n",
    "        else:\n",
    "            print(\"** GRADE: DOCUMENT IRRELEVANT\")\n",
    "            websearch = 'yes'\n",
    "            continue\n",
    "        \n",
    "        return {'documents': filtered_docs, 'web_search': websearch}\n",
    "\n",
    "\n",
    "def web_search(state):\n",
    "\n",
    "    question = state['question']\n",
    "    documents = state.get('documents', [])\n",
    "\n",
    "    print(\"** WEB SEARCH **\")\n",
    "\n",
    "    docs = web_search_tool.invoke({'query': question})\n",
    "    web_results = \"\\n\".join([doc['content'] for doc in docs])\n",
    "    web_results = Document(page_content=web_results)\n",
    "\n",
    "    documents.append(web_results)\n",
    "\n",
    "    return {\n",
    "        'documents': documents\n",
    "    }\n",
    "\n",
    "\n",
    "## Edges\n",
    "\n",
    "def route_question(state):\n",
    "    print(\"** ROUTE QUESTION **\")\n",
    "    route_question = llm_json_mode.invoke([SystemMessage(content=router_instructions)] + [HumanMessage(content=state['question'])])\n",
    "\n",
    "    source = json.loads(route_question.content)['datasource']\n",
    "\n",
    "    print(source)\n",
    "\n",
    "    if source == 'websearch':\n",
    "        print(\"** ROUTING TO: websearch **\")\n",
    "        return 'websearch'\n",
    "    elif source == \"vectorstore\":\n",
    "        print(\"** ROUTING TO: retriever **\")\n",
    "        return 'vectorstore'\n",
    "\n",
    "\n",
    "def decide_to_generate(state):\n",
    "    print(\"** ASSESS GRADED DOCUMENTS **\")\n",
    "\n",
    "    question = state['question']\n",
    "    filtered_documents = state['documents']\n",
    "    websearch = state['web_search']\n",
    "\n",
    "    if websearch == \"yes\":\n",
    "        # All documents have been filtered \n",
    "        print(\"** DECISION: NOT ALL DOCUMENTS ARE RELEVANT\")\n",
    "        return 'websearch'\n",
    "    \n",
    "    else:\n",
    "        # All the documents are relevant\n",
    "        print(\"** DECISION: GENERATE **\")\n",
    "        return 'generate'\n",
    "\n",
    "\n",
    "def grade_generation_w_documents_and_question(state):\n",
    "\n",
    "    print(\"** CHECK FOR HALLUCINATIONS **\")\n",
    "    question = state['question']\n",
    "    documents = state['documents']\n",
    "    generation = state['generation']\n",
    "    max_retries = state.get('max_retries', 3)  # keep default retries to 3 if not specified\n",
    "\n",
    "    hallucination_grader_prompt_formatted = hallucination_grader_prompt.format(facts=format_docs(documents), generation=generation)\n",
    "    result = llm_json_mode.with_structured_output(ReasoningGrader).invoke([SystemMessage(content=hallucination_instructions)] + [HumanMessage(content=hallucination_grader_prompt_formatted)])\n",
    "    grade = result.binary_score\n",
    "\n",
    "    if grade == 'yes':\n",
    "        print(\"** DECISION: THE ANSWER IS GROUNDED IN DOCUMENTS**\")\n",
    "        # Check the answer relevance in question\n",
    "        answer_grader_prompt_formatted = answer_grader_prompt.format(question=question, generation=generation)\n",
    "\n",
    "        answer_grade = llm_json_mode.with_structured_output(ReasoningGrader).invoke([SystemMessage(content=answer_grader_instructions), HumanMessage(content=answer_grader_prompt_formatted)])\n",
    "\n",
    "        if answer_grade.binary_score == 'yes':\n",
    "            # The answer is relevant in the question\n",
    "            return 'useful'\n",
    "        elif state['loop_step'] <= max_retries:\n",
    "            # The answer is not useful but we can retry\n",
    "            return 'not useful'\n",
    "        else:\n",
    "            # the answer is not useful and we can't retry\n",
    "            return 'max_retries'\n",
    "    \n",
    "    elif state['loop_step'] <= max_retries:\n",
    "        # the answer is not relevant to the context but we can retry\n",
    "        return 'not supported'\n",
    "    \n",
    "    else:\n",
    "        return 'max_retries'\n"
   ]
  },
  {
   "cell_type": "code",
   "execution_count": 18,
   "metadata": {},
   "outputs": [],
   "source": [
    "### Construct the graph\n",
    "\n",
    "graph = StateGraph(AdaptiveRAGState)\n",
    "\n",
    "# define the nodes\n",
    "graph.add_node(\"websearch\", web_search)\n",
    "graph.add_node(\"retriever\", retriever)\n",
    "graph.add_node(\"grade_documents\", grade_documents)\n",
    "graph.add_node(\"generate\", generate)\n",
    "\n",
    "# define the edges and conditional edges\n",
    "\n",
    "graph.set_conditional_entry_point(route_question, {'websearch': 'websearch', 'vectorstore': 'retriever'})\n",
    "graph.add_edge('websearch', 'generate')\n",
    "graph.add_edge('retriever', 'grade_documents')\n",
    "graph.add_conditional_edges(\"grade_documents\", decide_to_generate, {'websearch': \"websearch\", \"generate\": \"generate\"})\n",
    "graph.add_conditional_edges(\"generate\", grade_generation_w_documents_and_question, {\"not supported\": \"generate\", \"useful\": END, \"not useful\": \"websearch\", \"max_retries\": END})\n",
    "\n",
    "\n",
    "# compile\n",
    "adaptive_rag = graph.compile()"
   ]
  },
  {
   "cell_type": "code",
   "execution_count": 19,
   "metadata": {},
   "outputs": [
    {
     "data": {
      "image/jpeg": "[encoded data removed]",
      "text/plain": [
       "<IPython.core.display.Image object>"
      ]
     },
     "metadata": {},
     "output_type": "display_data"
    }
   ],
   "source": [
    "from IPython.display import Image, display\n",
    "\n",
    "display(Image(adaptive_rag.get_graph().draw_mermaid_png()))"
   ]
  },
  {
   "cell_type": "code",
   "execution_count": 20,
   "metadata": {},
   "outputs": [
    {
     "name": "stdout",
     "output_type": "stream",
     "text": [
      "** ROUTE QUESTION **\n",
      "websearch\n",
      "** ROUTING TO: websearch **\n",
      "{'question': 'What are the features of the newly released Llama3.2 models?', 'max_retries': 3, 'loop_step': 0}\n",
      "** WEB SEARCH **\n",
      "{'question': 'What are the features of the newly released Llama3.2 models?', 'max_retries': 3, 'loop_step': 0, 'documents': [Document(metadata={}, page_content='Llama 3.2 is Meta’s first open-source AI model capable of processing both text and images. Llama 3.2 1B and 3B Model Performance. Llama 3.2 introduces multimodal models (11B and 90B) that can process both text and images. Llama 3.2 incorporates a new adapter architecture for vision models, integrating image encoder representations. As the first Llama models capable of handling vision tasks, the 11B and 90B models required a new architecture designed to support image reasoning. The team applied two techniques — pruning and distillation — to the 1B and 3B models, making them the first highly capable, lightweight Llama models that can efficiently run on devices.\\nLlama 3.2 includes multilingual text-only models (1B, 3B) and text-image models (11B, 90B), with quantized versions of 1B and 3B offering on average up to 56% smaller size and 2-3x speedup, ideal for on-device and edge deployments. Running powerful, smaller footprint Llamas on Arm CPUs delivers major performance and efficiency benefits and a simple, seamless developer experience which will ultimately accelerate AI deployment across the breadth of mobile and edge markets, built on Arm. We’re excited to continue collaborating with Meta to bring Llama 3.2 to devices powered by Snapdragon and Qualcomm platforms—empowering developers to create innovative generative AI applications that can run on edge devices. “We’re excited to continue collaborating with Meta to bring Llama 3.2 to devices powered by Snapdragon and Qualcomm platforms—empowering developers to create innovative generative AI applications that can run on edge devices.”\\nLlama 3.2 11B & 90B Vision Models Use cases of Llama vision models How Llama 3.2 vision models work To enable the Llama 3.2 vision models to understand both text and images, Meta integrated a pre-trained image encoder into the existing language model using special adapters. Llama 3.2 1B & 3B Lightweight Models Meta’s release of Llama 3.2 introduces the first multimodal models in the series, focusing on two key areas: vision-enabled models and lightweight models for edge and mobile devices. It also offers lightweight models designed for efficient use on edge and mobile devices, unlike Llama 3.1, which was focused primarily on text processing. Llama 3.2 vision models perform competitively, excelling in tasks involving image and text reasoning.\\nMeta Releases Llama 3.2—and Gives Its AI a Voice | WIRED Meta Releases Llama 3.2—and Gives Its AI a Voice Meta Releases Llama 3.2—and Gives Its AI a Voice Meta today also announced Llama 3.2, the first version of its free AI models to have visual abilities, broadening their usefulness and relevance for robotics, virtual reality, and so-called AI agents. Powering Meta AI’s new capabilities is an upgraded version of Llama, Meta’s premier large language model. “With Llama 3.1, Meta showed that open models could finally close the gap with their proprietary counterparts,” says Nathan Benaich, founder and general partner of Air Street Capital, and the author of an influential yearly report on AI.\\nTen open-weight models (5 multimodal models and 5 text-only ones) are available on the Hub. Llama 3.2 Vision comes in two sizes: 11B for efficient deployment and development on consumer-size GPU, and 90B for large-scale applications. Llama 3.2 also includes small text-only language models that can run on-device. There’s also a small 1B version of Llama Guard that can be deployed alongside these or the larger text models in production use cases. The Llama 3.2 collection includes 1B and 3B text models. There is also a new small version of Llama Guard, Llama Guard 3 1B, that can be deployed with these models to evaluate the last user or assistant responses in a multi-turn conversation. model_id = \"meta-llama/Llama-3.2-3B-Instruct\" model_id = \"meta-llama/Llama-3.2-11B-Vision-Instruct\" --model_name_or_path meta-llama/Llama-3.2-11B-Vision-Instruct \\\\')]}\n",
      "** GENERATE **\n",
      "** CHECK FOR HALLUCINATIONS **\n",
      "** DECISION: THE ANSWER IS GROUNDED IN DOCUMENTS**\n",
      "{'question': 'What are the features of the newly released Llama3.2 models?', 'generation': AIMessage(content='The Llama 3.2 models feature multimodal capabilities, enabling them to process both text and images. The models also include a new adapter architecture for vision models, integrating image encoder representations, making them capable of handling vision tasks. Additionally, the models are designed to be lightweight and efficient, with quantized versions available that offer up to 56% smaller size and 2-3x speedup for on-device deployments.', additional_kwargs={}, response_metadata={'model': 'llama3.2:3b-instruct-fp16', 'created_at': '2024-11-11T11:53:14.202630278Z', 'message': {'role': 'assistant', 'content': ''}, 'done_reason': 'stop', 'done': True, 'total_duration': 1196201624, 'load_duration': 15739611, 'prompt_eval_count': 1026, 'prompt_eval_duration': 92564000, 'eval_count': 87, 'eval_duration': 1045996000}, id='run-b0fc81f1-47a2-4446-98b9-df9cdbedbcb2-0', usage_metadata={'input_tokens': 1026, 'output_tokens': 87, 'total_tokens': 1113}), 'max_retries': 3, 'loop_step': 1, 'documents': [Document(metadata={}, page_content='Llama 3.2 is Meta’s first open-source AI model capable of processing both text and images. Llama 3.2 1B and 3B Model Performance. Llama 3.2 introduces multimodal models (11B and 90B) that can process both text and images. Llama 3.2 incorporates a new adapter architecture for vision models, integrating image encoder representations. As the first Llama models capable of handling vision tasks, the 11B and 90B models required a new architecture designed to support image reasoning. The team applied two techniques — pruning and distillation — to the 1B and 3B models, making them the first highly capable, lightweight Llama models that can efficiently run on devices.\\nLlama 3.2 includes multilingual text-only models (1B, 3B) and text-image models (11B, 90B), with quantized versions of 1B and 3B offering on average up to 56% smaller size and 2-3x speedup, ideal for on-device and edge deployments. Running powerful, smaller footprint Llamas on Arm CPUs delivers major performance and efficiency benefits and a simple, seamless developer experience which will ultimately accelerate AI deployment across the breadth of mobile and edge markets, built on Arm. We’re excited to continue collaborating with Meta to bring Llama 3.2 to devices powered by Snapdragon and Qualcomm platforms—empowering developers to create innovative generative AI applications that can run on edge devices. “We’re excited to continue collaborating with Meta to bring Llama 3.2 to devices powered by Snapdragon and Qualcomm platforms—empowering developers to create innovative generative AI applications that can run on edge devices.”\\nLlama 3.2 11B & 90B Vision Models Use cases of Llama vision models How Llama 3.2 vision models work To enable the Llama 3.2 vision models to understand both text and images, Meta integrated a pre-trained image encoder into the existing language model using special adapters. Llama 3.2 1B & 3B Lightweight Models Meta’s release of Llama 3.2 introduces the first multimodal models in the series, focusing on two key areas: vision-enabled models and lightweight models for edge and mobile devices. It also offers lightweight models designed for efficient use on edge and mobile devices, unlike Llama 3.1, which was focused primarily on text processing. Llama 3.2 vision models perform competitively, excelling in tasks involving image and text reasoning.\\nMeta Releases Llama 3.2—and Gives Its AI a Voice | WIRED Meta Releases Llama 3.2—and Gives Its AI a Voice Meta Releases Llama 3.2—and Gives Its AI a Voice Meta today also announced Llama 3.2, the first version of its free AI models to have visual abilities, broadening their usefulness and relevance for robotics, virtual reality, and so-called AI agents. Powering Meta AI’s new capabilities is an upgraded version of Llama, Meta’s premier large language model. “With Llama 3.1, Meta showed that open models could finally close the gap with their proprietary counterparts,” says Nathan Benaich, founder and general partner of Air Street Capital, and the author of an influential yearly report on AI.\\nTen open-weight models (5 multimodal models and 5 text-only ones) are available on the Hub. Llama 3.2 Vision comes in two sizes: 11B for efficient deployment and development on consumer-size GPU, and 90B for large-scale applications. Llama 3.2 also includes small text-only language models that can run on-device. There’s also a small 1B version of Llama Guard that can be deployed alongside these or the larger text models in production use cases. The Llama 3.2 collection includes 1B and 3B text models. There is also a new small version of Llama Guard, Llama Guard 3 1B, that can be deployed with these models to evaluate the last user or assistant responses in a multi-turn conversation. model_id = \"meta-llama/Llama-3.2-3B-Instruct\" model_id = \"meta-llama/Llama-3.2-11B-Vision-Instruct\" --model_name_or_path meta-llama/Llama-3.2-11B-Vision-Instruct \\\\')]}\n"
     ]
    }
   ],
   "source": [
    "## TEST\n",
    "inputs = {\"question\": \"What are the features of the newly released Llama3.2 models?\", \"max_retries\": 3}\n",
    "for event in adaptive_rag.stream(inputs, stream_mode=\"values\"):\n",
    "    print(event)"
   ]
  }
 ],
 "metadata": {
  "kernelspec": {
   "display_name": "my_master",
   "language": "python",
   "name": "python3"
  },
  "language_info": {
   "codemirror_mode": {
    "name": "ipython",
    "version": 3
   },
   "file_extension": ".py",
   "mimetype": "text/x-python",
   "name": "python",
   "nbconvert_exporter": "python",
   "pygments_lexer": "ipython3",
   "version": "3.10.14"
  }
 },
 "nbformat": 4,
 "nbformat_minor": 2
}
